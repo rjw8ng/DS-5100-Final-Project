{
 "cells": [
  {
   "cell_type": "markdown",
   "metadata": {},
   "source": [
    "# Metadata\n",
    "\n",
    "* Title: **Final Project Report**\n",
    "* Class: DS 5100\n",
    "* Date:\n",
    "* Student Name: Royal Wang\n",
    "* Student Net ID: rjw8ng\n",
    "* This URL: http://localhost:8888/notebooks/FinalProjectSubmissionTemplate.ipynb\n",
    "* GitHub Repo URL: https://github.com/rjw8ng/DS-5100-Final-Project"
   ]
  },
  {
   "cell_type": "markdown",
   "metadata": {},
   "source": [
    "# The Monte Carlo Module"
   ]
  },
  {
   "cell_type": "code",
   "execution_count": 2,
   "metadata": {},
   "outputs": [],
   "source": [
    "import pandas as pd\n",
    "import numpy as np\n",
    "import random\n",
    "\n",
    "class Die:\n",
    "    \n",
    "    '''\n",
    "    A die has N sides, or “faces”, and W weights, and can be rolled to select a face. \n",
    "    '''\n",
    "    \n",
    "    def __init__(self, face):\n",
    "        \n",
    "        '''\n",
    "        Takes an array of faces as an argument. The array's data type (dtype) may be strings or numbers.\n",
    "        Internally iInitializes the weights to 1.0 for each face.\n",
    "        '''\n",
    "        \n",
    "        self.face = face\n",
    "        self.weight = [1.0 for i in face]\n",
    "        self.df = pd.DataFrame({\"face\": self.face, \"weight\": self.weight})\n",
    "    \n",
    "    def change_weight(self, face_value, new_weight):\n",
    "        \n",
    "        '''\n",
    "        Takes two arguments: the face value to be changed and the new weight.\n",
    "        Changes the weights value of the face inputted.\n",
    "        '''\n",
    "        \n",
    "        if face_value not in self.df[\"face\"].values:\n",
    "            print(\"Face not in DataFrame!\")\n",
    "        else:\n",
    "            try: \n",
    "                self.df.loc[(self.df[\"face\"]==face_value)] = [face_value, float(new_weight)]\n",
    "                \n",
    "            except:\n",
    "                print(\"Weight value cannot be converted to float!\")\n",
    "                \n",
    "    def roll(self, amount = 1):\n",
    "        \n",
    "        '''\n",
    "        Takes a parameter of how many times the die is to be rolled.\n",
    "        Returns a list of outcomes.\n",
    "        '''\n",
    "        \n",
    "        lst = [i for i in self.df[\"weight\"]]\n",
    "        sm = sum(lst)\n",
    "        p = [x / sm for x in lst]\n",
    "        \n",
    "        result = np.random.choice([i for i in self.df[\"face\"]], amount, p = p)\n",
    "        \n",
    "        return result\n",
    "    \n",
    "    def show(self):\n",
    "        \n",
    "        '''\n",
    "        Returns the dataframe created in the initializer.\n",
    "        '''\n",
    "        \n",
    "        return self.df\n",
    "    \n",
    "class Game:\n",
    "    \n",
    "    '''\n",
    "    A game consists of rolling of one or more dice of the same kind one or more times. \n",
    "    '''\n",
    "    \n",
    "    def __init__(self, die_object):\n",
    "        \n",
    "        '''\n",
    "        Takes a single parameter, a list of already instantiated similar Die objects.\n",
    "        '''\n",
    "        \n",
    "        self.die_object = die_object\n",
    "    \n",
    "    def play(self, turns):\n",
    "        \n",
    "        '''\n",
    "        Takes a parameter to specify how many times the dice should be rolled.\n",
    "        '''\n",
    "        \n",
    "        new_df = pd.DataFrame(columns = [\"Roll_Number\", \"Die\", \"Roll\"])\n",
    "        \n",
    "        counter = 0\n",
    "        for i in self.die_object:\n",
    "            \n",
    "            temp_df = pd.DataFrame()\n",
    "            \n",
    "            output_list = i.roll(turns)\n",
    "            length = len(output_list)\n",
    "            \n",
    "            \n",
    "            temp_df[\"Roll_Number\"] = [int(j) for j in range(1, length+1)]\n",
    "            temp_df[\"Die\"] = [counter for k in range(1, length+1)]\n",
    "            temp_df[\"Roll\"] = output_list\n",
    "            \n",
    "            new_df = pd.concat([new_df, temp_df], ignore_index=True)\n",
    "            counter += 1\n",
    "        \n",
    "        new_df[\"Roll Number\"] = new_df['Roll_Number']\n",
    "        new_df = new_df[[\"Roll_Number\", \"Roll Number\", \"Die\", \"Roll\"]]\n",
    "        \n",
    "        return new_df.set_index('Roll_Number')\n",
    "        \n",
    "    def show_game(self, dataframe, form = 'wide'):\n",
    "        \n",
    "        '''\n",
    "        A method to show the user the results of the most recent play.\n",
    "        \n",
    "        Takes a parameter to return the dataframe in narrow or wide form.\n",
    "        This parameter defaults to wide form.\n",
    "        This parameter should raise an exception of the user passes an invalid option.\n",
    "        The narrow form of the dataframe will have a two-column index with the roll number and the die number, and a column for the face rolled.\n",
    "        The wide form of the dataframe will a single column index with the roll number, and each die number as a column.\n",
    "        '''\n",
    "        \n",
    "        if form != 'wide' and form != 'narrow':\n",
    "            print(\"Set second arguement to either 'wide' or 'narrow'!\")\n",
    "            \n",
    "        elif form == 'wide':\n",
    "            return dataframe.pivot(index = \"Roll Number\", columns = \"Die\", values = \"Roll\")\n",
    "        else:\n",
    "            return dataframe.set_index([\"Die\", \"Roll Number\"]) \n",
    "        \n",
    "class Analyzer:\n",
    "    \n",
    "    '''\n",
    "    An analyzer takes the results of a single game and computes various descriptive statistical properties about it. \n",
    "    These properties results are available as attributes of an Analyzer object.\n",
    "    '''\n",
    "    \n",
    "    def __init__(self, result):\n",
    "        \n",
    "        '''\n",
    "        Takes a game object as its input parameter. \n",
    "        At initialization time, it also infers the data type of the die faces used.\n",
    "        '''\n",
    "        \n",
    "        self.result = result\n",
    "        self.jackpot_result = pd.DataFrame({\"Roll Number\": [],\"Value\": []})\n",
    "        \n",
    "    def jackpot(self):\n",
    "        \n",
    "        '''\n",
    "        A jackpot method to compute how many times the game resulted in all faces being identical.\n",
    "        \n",
    "        Returns an integer for the number times to the user.\n",
    "        Stores the results as a dataframe of jackpot results in a public attribute.\n",
    "        '''\n",
    "        \n",
    "        self.jackpot_df = pd.DataFrame({\"Roll Number\": [],\"Value\": []})\n",
    "        \n",
    "        jackpot_count = 0\n",
    "        \n",
    "        turns = max(self.result[\"Roll Number\"])\n",
    "        \n",
    "        for i in range(1, turns + 1):\n",
    "            lst = [j for j in self.result[self.result[\"Roll Number\"]==i][\"Roll\"]]\n",
    "            \n",
    "            counts = lst.count(lst[0])\n",
    "            list_length = len(lst)\n",
    "            \n",
    "            if counts == list_length:\n",
    "                self.jackpot_df.loc[len(self.jackpot_df)] = [i, lst[0]]\n",
    "                jackpot_count += 1\n",
    "            else:\n",
    "                pass\n",
    "            \n",
    "        self.jackpot_result = self.jackpot_df\n",
    "        \n",
    "        return jackpot_count\n",
    "                   \n",
    "    def combo(self):\n",
    "        \n",
    "        '''\n",
    "        A combo method to compute the distinct combinations of faces rolled, along with their counts\n",
    "        \n",
    "        Compute the distinct combinations of faces rolled, along with their counts.\n",
    "        Stores the results as a dataframe in a public attribute.\n",
    "        '''\n",
    "        self.combo_df = pd.DataFrame()\n",
    "        \n",
    "        temp_lst = [i for i in self.result[\"Roll\"]]\n",
    "        temp_lst = sorted(list(set(temp_lst)))\n",
    "        \n",
    "        columns = []\n",
    "        for i in range(1, len(set(self.result[\"Die\"]))+1):\n",
    "            columns.append(i) \n",
    "            self.combo_df[i] = \"\"\n",
    "        self.combo_df[\"count\"] = \"\"\n",
    "        \n",
    "        temp_dict = {}\n",
    "        \n",
    "        turns = max(self.result[\"Roll Number\"])\n",
    "        \n",
    "        for i in range(1, turns + 1):\n",
    "            lst = [str(j) for j in self.result[self.result[\"Roll Number\"] == i][\"Roll\"]]\n",
    "            \n",
    "            lst = sorted(lst)\n",
    "            lst_string = \" \".join(lst)\n",
    "            \n",
    "            if lst_string in temp_dict:\n",
    "                temp_dict[lst_string] += 1\n",
    "            else:\n",
    "                temp_dict[lst_string] = 1 \n",
    "        \n",
    "        for key, value in temp_dict.items():\n",
    "            lst_values = key.split(\" \")\n",
    "            df_lst = [i for i in lst_values]\n",
    "            df_lst.append(value)\n",
    "            self.combo_df.loc[len(self.combo_df)] = df_lst\n",
    "        \n",
    "        self.combo_df = self.combo_df.sort_values(by = columns)\n",
    "        \n",
    "        return self.combo_df.set_index(columns) \n",
    "        \n",
    "            \n",
    "    def face_counts_per_roll(self):\n",
    "        \n",
    "        '''\n",
    "        A face counts per roll method to compute how many times a given face is rolled in each event.\n",
    "        \n",
    "        Compute how many times a given face is rolled in each event.\n",
    "        Stores the results as a dataframe in a public attribute.\n",
    "        '''\n",
    "        \n",
    "        turns = max(self.result[\"Roll Number\"])\n",
    "        distinct_outcomes = set(self.result[\"Roll\"])\n",
    "        distinct_outcomes = sorted([i for i in distinct_outcomes])\n",
    "        \n",
    "        df = pd.DataFrame()\n",
    "        \n",
    "        for i in distinct_outcomes:\n",
    "            df[i] = \"\"\n",
    "        \n",
    "        for i in range(1, turns + 1):\n",
    "            lst = [j for j in self.result[self.result[\"Roll Number\"] == i][\"Roll\"]]\n",
    "            \n",
    "            temp_list = []\n",
    "            for j in distinct_outcomes:\n",
    "                temp_list.append(lst.count(j))\n",
    "            \n",
    "            df.loc[len(df)] = temp_list\n",
    "        \n",
    "        return df"
   ]
  },
  {
   "cell_type": "markdown",
   "metadata": {},
   "source": [
    "# Test Module"
   ]
  },
  {
   "cell_type": "code",
   "execution_count": null,
   "metadata": {},
   "outputs": [],
   "source": [
    "import unittest\n",
    "from Die import Die, Game, Analyzer\n",
    "import pandas.testing as pd_testing\n",
    "import pandas as pd\n",
    "import random\n",
    "\n",
    "\n",
    "class EnrollInTestCase(unittest.TestCase): \n",
    "    \n",
    "    def test_1_change_weight_tofloat__test(self):\n",
    "        \n",
    "        '''\n",
    "        Create 2 Die objects and change the weight of the first Die object to float.\n",
    "        Check if the change_weight function changes the weight of face.\n",
    "        '''\n",
    "        \n",
    "        Die_Object1 = Die([1,2,3,4,5,6])\n",
    "        Die_Object2 = pd.DataFrame({\"face\": [1,2,3,4,5,6], \"weight\": [1.0,1.0,1.0,1.0,1.0,5.0]})\n",
    "        Die_Object1.change_weight(6, 5)\n",
    "        \n",
    "        self.assertEqual(int(Die_Object1.df[\"weight\"][Die_Object1.df[\"face\"]==6]), int(Die_Object2[\"weight\"][Die_Object2[\"face\"]==6]))\n",
    "    \n",
    "    def test_2_change_weight_nonfloat_test(self):\n",
    "        \n",
    "        '''\n",
    "        Create 2 Die objects and change the weight of the first Die object to nonfloat.\n",
    "        Check if the change_weight function changes the weight of face.\n",
    "        '''\n",
    "        \n",
    "        Die_Object1 = Die([1,2,3,4,5,6])\n",
    "        Die_Object2 = Die([1,2,3,4,5,6])\n",
    "        Die_Object1.change_weight(6, \"yes\")\n",
    "        \n",
    "        self.assertEqual(int(Die_Object1.df[\"weight\"][Die_Object1.df[\"face\"]==6]), int(Die_Object2.df[\"weight\"][Die_Object2.df[\"face\"]==6]))\n",
    "        \n",
    "    def test_3_change_weight_not_face_test(self):\n",
    "        \n",
    "         '''\n",
    "        Create 2 Die objects and change the weight of non-existant face of the first Die object.\n",
    "        Check if the change_weight function changes the weight of face.\n",
    "        '''\n",
    "        \n",
    "        Die_Object1 = Die([1,2,3,4,5,6])\n",
    "        Die_Object2 = Die([1,2,3,4,5,6])\n",
    "        Die_Object1.change_weight(7, 5.0)\n",
    "        \n",
    "        self.assertEqual(int(Die_Object1.df[\"weight\"][Die_Object1.df[\"face\"]==6]), int(Die_Object2.df[\"weight\"][Die_Object2.df[\"face\"]==6]))\n",
    "        \n",
    "    def test_4_roll_test(self):\n",
    "        \n",
    "        '''\n",
    "        Create Die object and check if roll function generates the correct amount of rolls.\n",
    "        '''\n",
    "        \n",
    "        Die_Object = Die([1,2,3,4,5,6])\n",
    "        result = Die_Object.roll(6)\n",
    "        \n",
    "        self.assertEqual(len(result), 6)\n",
    "        \n",
    "    def test_5_show_test(self):\n",
    "        \n",
    "        '''\n",
    "        Create Die object and check output equals dataframe.\n",
    "        '''\n",
    "        Die_Object = Die([1,2,3,4,5,6])\n",
    "        \n",
    "        pd_testing.assert_frame_equal(Die_Object.df, Die_Object.show())\n",
    "\n",
    "    def test_6_play(self):\n",
    "        \n",
    "        '''\n",
    "        Create 3 Die objects and change the weight of the second Die object.\n",
    "        Run play function to see if the correct number of rolls per die are rolled.\n",
    "        '''\n",
    "        \n",
    "        D1 = Die([1,2,3,4,5,6])\n",
    "        D2 = Die([1,2,3,4,5,6])\n",
    "        D3 = Die([1,2,3,4,5,6])\n",
    "        D2.change_weight(6,5.0)\n",
    "        lst = [D1, D2, D3]\n",
    "        gm = Game(lst)\n",
    "        \n",
    "        df = gm.play(3)\n",
    "        \n",
    "        Roll_number = [i for i in gm.play(3)[\"Roll Number\"]]\n",
    "        Dies = [i for i in gm.play(3)[\"Die\"]]\n",
    "        \n",
    "        self.assertTrue([[1,2,3,1,2,3,1,2,3], [0,0,0,1,1,1,2,2,2]], [Roll_number, Dies])\n",
    "        \n",
    "    \n",
    "    def test_7_show_wide(self):\n",
    "        \n",
    "        '''\n",
    "        Create 3 Die objects and change the weight of the second Die object.\n",
    "        Check if the index and column names are correct after using the 'wide' arguement with the show function. \n",
    "        '''\n",
    "        \n",
    "        D1 = Die([1,2,3,4,5,6])\n",
    "        D2 = Die([1,2,3,4,5,6])\n",
    "        D3 = Die([1,2,3,4,5,6])\n",
    "        D2.change_weight(6,5.0)\n",
    "        lst = [D1, D2, D3]\n",
    "        gm = Game(lst)\n",
    "        \n",
    "        col = [i for i in gm.show_game(gm.play(4), \"wide\").columns]\n",
    "        index = list(gm.show_game(gm.play(4), \"wide\").index.values)\n",
    "        \n",
    "        self.assertEqual([col, index], [[0,1,2], [1,2,3,4]])\n",
    "        \n",
    "        \n",
    "    def test_8_show_narrow(self):\n",
    "        \n",
    "        '''\n",
    "        Create 3 Die objects and change the weight of the second Die object.\n",
    "        Check if the length of the columns match the 'narrow' arguement output with the show function. \n",
    "        '''\n",
    "        \n",
    "        D1 = Die([1,2,3,4,5,6])\n",
    "        D2 = Die([1,2,3,4,5,6])\n",
    "        D3 = Die([1,2,3,4,5,6])\n",
    "        D2.change_weight(6,5.0)\n",
    "        lst = [D1, D2, D3]\n",
    "        gm = Game(lst)\n",
    "        \n",
    "        col = [i for i in gm.show_game(gm.play(4), \"narrow\")[\"Roll\"]]\n",
    "        \n",
    "        self.assertEqual(len(col), 12)\n",
    "        \n",
    "        \n",
    "    def test_9_jackpot(self):\n",
    "        \n",
    "        '''\n",
    "        Create 2 Die objects and compare the length of the jackpot dataframe output with the jackpot function count.\n",
    "        '''\n",
    "        D1 = Die([1,2])\n",
    "        D2 = Die([1,2])\n",
    "        lst = [D1, D2]\n",
    "        gm = Game(lst)\n",
    "        test = gm.play(10)\n",
    "        \n",
    "        analyze = Analyzer(test)\n",
    "        count = analyze.jackpot()\n",
    "        \n",
    "        self.assertEqual(count, len(analyze.jackpot_result.index))\n",
    "        \n",
    "\n",
    "    def test_10_combo(self):\n",
    "        \n",
    "        '''\n",
    "        Create 2 Die objects and compare if the max roll numnber matches the total combo count.\n",
    "        '''\n",
    "        \n",
    "        D1 = Die([1,2])\n",
    "        D2 = Die([1,2])\n",
    "        lst = [D1, D2]\n",
    "        \n",
    "        gm = Game(lst)\n",
    "        test = gm.play(10)\n",
    "        \n",
    "        analyze = Analyzer(test)\n",
    "        \n",
    "        self.assertEqual(max(analyze.result[\"Roll Number\"]), sum(analyze.combo()[\"count\"]))\n",
    "        \n",
    "    def test_11_face_counts_per_roll(self):\n",
    "        \n",
    "        '''\n",
    "        Create 2 Die objects and compares if the total rolls per face matches the rolls generated with the Game function.\n",
    "        '''\n",
    "        D1 = Die([1,2])\n",
    "        D2 = Die([1,2])\n",
    "        lst = [D1, D2]\n",
    "        \n",
    "        gm = Game(lst)\n",
    "        test = gm.play(10)\n",
    "        \n",
    "        analyze = Analyzer(test)\n",
    "        colname = analyze.face_counts_per_roll().columns\n",
    "        \n",
    "        switch = True\n",
    "        for i in colname:\n",
    "            result_count = len(analyze.result[analyze.result[\"Roll\"] == i].index)\n",
    "            method_count = sum(analyze.face_counts_per_roll()[i])\n",
    "            if result_count == method_count:\n",
    "                pass\n",
    "            else:\n",
    "                switch = False\n",
    "                break\n",
    "                \n",
    "        self.assertTrue(switch)\n",
    "        \n",
    "if __name__ == '__main__':\n",
    "\n",
    "    unittest.main(verbosity=2)"
   ]
  },
  {
   "cell_type": "markdown",
   "metadata": {},
   "source": [
    "# Test Results"
   ]
  },
  {
   "cell_type": "raw",
   "metadata": {},
   "source": [
    "-bash-4.2$python test.py\n",
    "test_10_combo (__main__.EnrollInTestCase) ... ok\n",
    "test_11_face_counts_per_roll (__main__.EnrollInTestCase) ... ok\n",
    "test_1_change_weight_tofloat__test (__main__.EnrollInTestCase) ... ok\n",
    "test_2_change_weight_nonfloat_test (__main__.EnrollInTestCase) ... Weight value cannot be converted to float!\n",
    "ok\n",
    "test_3_change_weight_not_face_test (__main__.EnrollInTestCase) ... Face not in DataFrame!\n",
    "ok\n",
    "test_4_roll_test (__main__.EnrollInTestCase) ... ok\n",
    "test_5_show_test (__main__.EnrollInTestCase) ... ok\n",
    "test_6_play (__main__.EnrollInTestCase) ... ok\n",
    "test_7_show_wide (__main__.EnrollInTestCase) ... ok\n",
    "test_8_show_narrow (__main__.EnrollInTestCase) ... ok\n",
    "test_9_jackpot (__main__.EnrollInTestCase) ... ok\n",
    "----------------------------------------------------------------------\n",
    "Ran 11 tests in 0.283s\n",
    "OK"
   ]
  },
  {
   "cell_type": "markdown",
   "metadata": {},
   "source": [
    "# Scenarios\n",
    "\n",
    "Code blocks with your scenarios and their outputs. \n",
    "\n",
    "These should have appropriate import statements even though the code is now in the same notebook as the classes it calls. "
   ]
  },
  {
   "cell_type": "markdown",
   "metadata": {},
   "source": [
    "## Scenario 1"
   ]
  },
  {
   "cell_type": "code",
   "execution_count": 5,
   "metadata": {},
   "outputs": [
    {
     "name": "stderr",
     "output_type": "stream",
     "text": [
      "C:\\Users\\PC\\anaconda3\\lib\\site-packages\\pandas\\core\\indexes\\base.py:6982: FutureWarning: In a future version, the Index constructor will not infer numeric dtypes when passed object-dtype sequences (matching Series behavior)\n",
      "  return Index(sequences[0], name=names)\n",
      "C:\\Users\\PC\\anaconda3\\lib\\site-packages\\pandas\\core\\indexes\\base.py:6982: FutureWarning: In a future version, the Index constructor will not infer numeric dtypes when passed object-dtype sequences (matching Series behavior)\n",
      "  return Index(sequences[0], name=names)\n"
     ]
    },
    {
     "data": {
      "text/plain": [
       "<AxesSubplot:xlabel='Games'>"
      ]
     },
     "execution_count": 5,
     "metadata": {},
     "output_type": "execute_result"
    },
    {
     "data": {
      "image/png": "[encoded data removed]",
      "text/plain": [
       "<Figure size 432x288 with 1 Axes>"
      ]
     },
     "metadata": {
      "needs_background": "light"
     },
     "output_type": "display_data"
    }
   ],
   "source": [
    "coin1 = Die([\"H\", \"T\"])\n",
    "coin2 = Die([\"H\", \"T\"])\n",
    "coin2.change_weight(\"T\",5.0)\n",
    "\n",
    "fair_coins = [coin1, coin1, coin1]\n",
    "unfair_coins = [coin1, coin2, coin2]\n",
    "        \n",
    "gm_fair = Game(fair_coins)\n",
    "gm_unfair = Game(unfair_coins)\n",
    "\n",
    "game1 = gm_fair.play(1000)\n",
    "game2 = gm_unfair.play(1000)\n",
    "\n",
    "analyze1 = Analyzer(game1)\n",
    "analyze2 = Analyzer(game2)\n",
    "\n",
    "jackpot1 = analyze1.jackpot()\n",
    "jackpot2 = analyze2.jackpot()\n",
    "\n",
    "jackpot_frequecy1 = jackpot1/1000\n",
    "jackpot_frequecy2 = jackpot2/1000\n",
    "\n",
    "df = pd.DataFrame({\"Games\": [\"Fiar Game\", \"Unfair Game\"], \"Output\": [jackpot_frequecy1, jackpot_frequecy2]})\n",
    "\n",
    "df.plot.bar(x = \"Games\", y = \"Output\", rot = 0)"
   ]
  },
  {
   "cell_type": "markdown",
   "metadata": {},
   "source": [
    "## Scenario 2"
   ]
  },
  {
   "cell_type": "code",
   "execution_count": 28,
   "metadata": {},
   "outputs": [
    {
     "name": "stderr",
     "output_type": "stream",
     "text": [
      "C:\\Users\\Royal Wang\\anaconda3\\lib\\site-packages\\pandas\\core\\indexes\\base.py:6982: FutureWarning: In a future version, the Index constructor will not infer numeric dtypes when passed object-dtype sequences (matching Series behavior)\n",
      "  return Index(sequences[0], name=names)\n",
      "C:\\Users\\Royal Wang\\anaconda3\\lib\\site-packages\\pandas\\core\\indexes\\base.py:6982: FutureWarning: In a future version, the Index constructor will not infer numeric dtypes when passed object-dtype sequences (matching Series behavior)\n",
      "  return Index(sequences[0], name=names)\n"
     ]
    },
    {
     "data": {
      "text/plain": [
       "<AxesSubplot:xlabel='Games'>"
      ]
     },
     "execution_count": 28,
     "metadata": {},
     "output_type": "execute_result"
    },
    {
     "data": {
      "image/png": "[encoded data removed]",
      "text/plain": [
       "<Figure size 432x288 with 1 Axes>"
      ]
     },
     "metadata": {
      "needs_background": "light"
     },
     "output_type": "display_data"
    }
   ],
   "source": [
    "D1 = Die([1,2,3,4,5,6])\n",
    "D2 = Die([1,2,3,4,5,6])\n",
    "D3 = Die([1,2,3,4,5,6])\n",
    "\n",
    "D2.change_weight(6,5.0)\n",
    "D3.change_weight(1,5.0)\n",
    "\n",
    "fair_die = [D1, D1, D1, D1, D1]\n",
    "unfair_die = [D2, D2, D3, D1, D1]\n",
    "\n",
    "gm_fair = Game(fair_die)\n",
    "gm_unfair = Game(unfair_die)\n",
    "\n",
    "game1 = gm_fair.play(1000)\n",
    "game2 = gm_unfair.play(1000)\n",
    "\n",
    "analyze1 = Analyzer(game1)\n",
    "analyze2 = Analyzer(game2)\n",
    "\n",
    "jackpot1 = analyze1.jackpot()\n",
    "jackpot2 = analyze2.jackpot()\n",
    "\n",
    "jackpot_frequecy1 = jackpot1/1000\n",
    "jackpot_frequecy2 = jackpot2/1000\n",
    "\n",
    "\n",
    "df = pd.DataFrame({\"Games\": [\"Fair Game\", \"Unfair Game\"], \"Output\": [jackpot_frequecy1, jackpot_frequecy2]})\n",
    "\n",
    "df.plot.bar(x = \"Games\", y = \"Output\", rot = 0)"
   ]
  },
  {
   "cell_type": "code",
   "execution_count": 27,
   "metadata": {},
   "outputs": [
    {
     "data": {
      "text/plain": [
       "<AxesSubplot:title={'center':'10 most frequent combinations of faces (5 fair dice)'}, xlabel='Combinations', ylabel='Frequency'>"
      ]
     },
     "execution_count": 27,
     "metadata": {},
     "output_type": "execute_result"
    },
    {
     "data": {
      "image/png": "[encoded data removed]",
      "text/plain": [
       "<Figure size 432x288 with 1 Axes>"
      ]
     },
     "metadata": {
      "needs_background": "light"
     },
     "output_type": "display_data"
    }
   ],
   "source": [
    "comb_df = analyze1.combo().sort_values(by=['count'], ascending = False)\n",
    "\n",
    "comb_df['count'].nlargest(n=10).plot.bar(\n",
    "            title='10 most frequent combinations of faces (5 fair dice)', # Adding a title to the top\n",
    "            xlabel=\"Combinations\", # Adding a label on the xaxis\n",
    "            ylabel=\"Frequency\")"
   ]
  },
  {
   "cell_type": "code",
   "execution_count": 5,
   "metadata": {},
   "outputs": [
    {
     "data": {
      "text/plain": [
       "<AxesSubplot:title={'center':'10 most frequent combinations of faces (Unfair dice)'}, xlabel='Combinations', ylabel='Frequency'>"
      ]
     },
     "execution_count": 5,
     "metadata": {},
     "output_type": "execute_result"
    },
    {
     "data": {
      "image/png": "[encoded data removed]",
      "text/plain": [
       "<Figure size 432x288 with 1 Axes>"
      ]
     },
     "metadata": {
      "needs_background": "light"
     },
     "output_type": "display_data"
    }
   ],
   "source": [
    "comb_df = analyze2.combo().sort_values(by=['count'], ascending = False)\n",
    "\n",
    "comb_df['count'].nlargest(n=10).plot.bar(\n",
    "            title='10 most frequent combinations of faces (Unfair dice)', # Adding a title to the top\n",
    "            xlabel=\"Combinations\", # Adding a label on the xaxis\n",
    "            ylabel=\"Frequency\")"
   ]
  },
  {
   "cell_type": "markdown",
   "metadata": {},
   "source": [
    "## Scenario 3"
   ]
  },
  {
   "cell_type": "code",
   "execution_count": 3,
   "metadata": {},
   "outputs": [],
   "source": [
    "import string \n",
    "\n",
    "letters = list(string.ascii_uppercase)\n",
    "frequency = [8.4966, 2.0720, 4.5388, 3.3844, 11.1607, 1.8121, 2.4705, 3.0034, 7.5448, 0.1965, 1.1016, 5.4893, 3.0129, 6.6544, 7.1635, \n",
    "            3.1671, 0.1962, 7.5809, 5.7351, 6.9509, 3.6308, 1.0074, 1.2899, 0.2902, 1.7779, 0.2722]\n",
    "\n",
    "die = Die(letters)\n",
    "die.weight = frequency\n",
    "die.df = pd.DataFrame({\"face\": die.face, \"weight\": die.weight})\n",
    "\n",
    "gm = Game([die, die, die, die, die])\n",
    "\n",
    "game = gm.play(1000)\n",
    "\n",
    "analyze = Analyzer(game)\n",
    "\n",
    "permutation_lst = []\n",
    "        \n",
    "turns = max(analyze.result[\"Roll Number\"])\n",
    "        \n",
    "for i in range(1, turns + 1):\n",
    "    lst = [str(j) for j in analyze.result[analyze.result[\"Roll Number\"] == i][\"Roll\"]]\n",
    "            \n",
    "    lst_string = \" \".join(lst)\n",
    "            \n",
    "    if lst_string in permutation_lst:\n",
    "        pass\n",
    "    else:\n",
    "        permutation_lst.append(lst_string)\n",
    "        \n",
    "# permutation_lst"
   ]
  },
  {
   "cell_type": "markdown",
   "metadata": {},
   "source": [
    "Based on my initial glance through the list of words, I did not see any english words pop up."
   ]
  },
  {
   "cell_type": "markdown",
   "metadata": {},
   "source": [
    "# Directory Listing\n",
    "\n",
    "A code block that executes the following bash command: \n",
    "\n",
    "```bash\n",
    "!ls -lRF -o\n",
    "```"
   ]
  },
  {
   "cell_type": "code",
   "execution_count": 4,
   "metadata": {},
   "outputs": [
    {
     "name": "stdout",
     "output_type": "stream",
     "text": [
      ".:\n",
      "total 120\n",
      "drwxr-sr-x 2 rjw8ng  2048 Jul 12 18:53 Die_Game/\n",
      "-rw-r--r-- 1 rjw8ng   729 Jul 12 18:53 Die_results.txt\n",
      "-rw-r--r-- 1 rjw8ng  1063 Jul 12 18:53 LICENSE\n",
      "-rw-r--r-- 1 rjw8ng 97353 Jul 12 18:53 montecarlo_demo.ipynb\n",
      "-rw-r--r-- 1 rjw8ng  1189 Jul 12 18:53 README.md\n",
      "-rw-r--r-- 1 rjw8ng   293 Jul 12 18:53 setup.py\n",
      "\n",
      "./Die_Game:\n",
      "total 40\n",
      "-rw-r--r-- 1 rjw8ng    1 Jul 12 18:53 __init__.py\n",
      "-rw-r--r-- 1 rjw8ng 5931 Jul 12 18:53 montecarlo.py\n",
      "-rw-r--r-- 1 rjw8ng 7201 Jul 12 18:53 montecarlo.pyc\n",
      "-rw-r--r-- 1 rjw8ng 4167 Jul 12 18:53 montecarlo_tests.py\n"
     ]
    }
   ],
   "source": [
    "!ls -lRF -o"
   ]
  },
  {
   "cell_type": "markdown",
   "metadata": {
    "tags": []
   },
   "source": [
    "# Installation Output Listing\n",
    "    \n",
    "A code block that executes the code to install your your package and outputs a successful installation."
   ]
  },
  {
   "cell_type": "code",
   "execution_count": 7,
   "metadata": {},
   "outputs": [
    {
     "name": "stdout",
     "output_type": "stream",
     "text": [
      "Defaulting to user installation because normal site-packages is not writeable\n",
      "Obtaining file:///sfs/qumulo/qhome/rjw8ng/Documents/MSDS/DS5100/DS-5100-Final-Project\n",
      "Installing collected packages: Die-Game\n",
      "  Running setup.py develop for Die-Game\n",
      "Successfully installed Die-Game\n"
     ]
    }
   ],
   "source": [
    "!pip install -e ."
   ]
  },
  {
   "cell_type": "code",
   "execution_count": null,
   "metadata": {},
   "outputs": [],
   "source": []
  }
 ],
 "metadata": {
  "kernelspec": {
   "display_name": "Python 3",
   "language": "python",
   "name": "python3"
  },
  "language_info": {
   "codemirror_mode": {
    "name": "ipython",
    "version": 3
   },
   "file_extension": ".py",
   "mimetype": "text/x-python",
   "name": "python",
   "nbconvert_exporter": "python",
   "pygments_lexer": "ipython3",
   "version": "3.8.8"
  },
  "widgets": {
   "application/vnd.jupyter.widget-state+json": {
    "state": {},
    "version_major": 2,
    "version_minor": 0
   }
  }
 },
 "nbformat": 4,
 "nbformat_minor": 5
}
